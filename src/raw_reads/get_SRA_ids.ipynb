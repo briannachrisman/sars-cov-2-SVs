{
 "cells": [
  {
   "cell_type": "code",
   "execution_count": 16,
   "metadata": {},
   "outputs": [],
   "source": [
    "import pandas as pd\n",
    "import matplotlib.pyplot as plt\n",
    "import numpy as np\n",
    "import glob\n",
    "\n",
    "PARENT_DIR = '/home/groups/dpwall/briannac/SARS-CoV-2_structural_variations/'\n",
    "\n",
    "SRA_metadata_table_file = PARENT_DIR + 'data/raw_reads/ncbi_sra_metadata.txt'"
   ]
  },
  {
   "cell_type": "code",
   "execution_count": 30,
   "metadata": {},
   "outputs": [
    {
     "name": "stderr",
     "output_type": "stream",
     "text": [
      "/home/users/briannac/.local/lib/python3.6/site-packages/IPython/core/interactiveshell.py:3020: DtypeWarning: Columns (35,37,38,39,40,41,42,43,44,45,46,47,48,49,50,51,52,53,54,55,56,57,58,59,60,61,62,63,64,65,66,67,68,69,70,71,72,73,74,75,76,77,78,79,80,81,82,83,86,87,88,89,92,93,94,95,96,97,100,101,102,103,104,105,106,107,108,109,110,111,112,113,114,115,116,117,118,119,120,121,122,123,125,126,127,128,129,130,131,133,134,135,136,137,138,139,140,141,142,143,144) have mixed types.Specify dtype option on import or set low_memory=False.\n",
      "  interactivity=interactivity, compiler=compiler, result=result)\n"
     ]
    }
   ],
   "source": [
    "metadata = pd.read_csv(SRA_metadata_table_file)"
   ]
  },
  {
   "cell_type": "code",
   "execution_count": 18,
   "metadata": {},
   "outputs": [],
   "source": [
    "metadata = metadata[[(d.split('-')[0]=='2020') & ((int(d.split('-')[1] + d.split('-')[2].split('T')[0]))<604) for d in metadata['ReleaseDate']]]"
   ]
  },
  {
   "cell_type": "code",
   "execution_count": 19,
   "metadata": {},
   "outputs": [],
   "source": [
    "metadata['Run'].to_csv(PARENT_DIR + 'sra_acc_list.txt', sep='\\t', header=None, index=None)"
   ]
  },
  {
   "cell_type": "code",
   "execution_count": 20,
   "metadata": {},
   "outputs": [
    {
     "data": {
      "image/png": "[encoded data removed]",
      "text/plain": [
       "<Figure size 432x288 with 1 Axes>"
      ]
     },
     "metadata": {
      "needs_background": "light"
     },
     "output_type": "display_data"
    }
   ],
   "source": [
    "plt.hist(np.log10(metadata[metadata['Platform']=='ILLUMINA']['Bases']), bins=100)\n",
    "plt.show()"
   ]
  },
  {
   "cell_type": "code",
   "execution_count": 21,
   "metadata": {},
   "outputs": [],
   "source": [
    "# Filter to small-ish fastq files of illumina reads.\n",
    "metadata = metadata[metadata['Bases']<10e7][['Run', 'Assay Type', 'Platform', 'LibraryLayout', 'Bases']]"
   ]
  },
  {
   "cell_type": "code",
   "execution_count": 22,
   "metadata": {},
   "outputs": [],
   "source": [
    "done_files = glob.glob('/home/groups/dpwall/briannac/SARS-CoV-2_structural_variations/intermediate_files/raw_reads/*.cov.vcf')\n",
    "done_files = [d.split('/')[-1].split('.')[0] for d in done_files]\n",
    "metadata[[r not in done_files for r in metadata['Run']]].to_csv(PARENT_DIR + '/intermediate_files/raw_reads/ncbi_metadata_not_finished.tsv', sep='\\t', index=False, header=None)"
   ]
  },
  {
   "cell_type": "code",
   "execution_count": 23,
   "metadata": {},
   "outputs": [
    {
     "data": {
      "text/plain": [
       "'/home/groups/dpwall/briannac/SARS-CoV-2_structural_variations//intermediate_files/raw_reads/ncbi_metadata_not_finished.tsv'"
      ]
     },
     "execution_count": 23,
     "metadata": {},
     "output_type": "execute_result"
    }
   ],
   "source": [
    "PARENT_DIR + '/intermediate_files/raw_reads/ncbi_metadata_not_finished.tsv'"
   ]
  },
  {
   "cell_type": "code",
   "execution_count": 24,
   "metadata": {},
   "outputs": [
    {
     "data": {
      "text/html": [
       "<div>\n",
       "<style scoped>\n",
       "    .dataframe tbody tr th:only-of-type {\n",
       "        vertical-align: middle;\n",
       "    }\n",
       "\n",
       "    .dataframe tbody tr th {\n",
       "        vertical-align: top;\n",
       "    }\n",
       "\n",
       "    .dataframe thead th {\n",
       "        text-align: right;\n",
       "    }\n",
       "</style>\n",
       "<table border=\"1\" class=\"dataframe\">\n",
       "  <thead>\n",
       "    <tr style=\"text-align: right;\">\n",
       "      <th></th>\n",
       "      <th>Run</th>\n",
       "      <th>Assay Type</th>\n",
       "      <th>Platform</th>\n",
       "      <th>LibraryLayout</th>\n",
       "      <th>Bases</th>\n",
       "    </tr>\n",
       "  </thead>\n",
       "  <tbody>\n",
       "    <tr>\n",
       "      <th>5296</th>\n",
       "      <td>SRR11772027</td>\n",
       "      <td>RNA-Seq</td>\n",
       "      <td>ILLUMINA</td>\n",
       "      <td>SINGLE</td>\n",
       "      <td>44367361</td>\n",
       "    </tr>\n",
       "  </tbody>\n",
       "</table>\n",
       "</div>"
      ],
      "text/plain": [
       "              Run Assay Type  Platform LibraryLayout     Bases\n",
       "5296  SRR11772027    RNA-Seq  ILLUMINA        SINGLE  44367361"
      ]
     },
     "execution_count": 24,
     "metadata": {},
     "output_type": "execute_result"
    }
   ],
   "source": [
    "metadata[[r not in done_files for r in metadata['Run']]]"
   ]
  },
  {
   "cell_type": "code",
   "execution_count": 25,
   "metadata": {},
   "outputs": [
    {
     "name": "stdout",
     "output_type": "stream",
     "text": [
      "Process is interrupted.\n"
     ]
    }
   ],
   "source": [
    "%%bash\n",
    "#cat /home/groups/dpwall/briannac/SARS-CoV-2_structural_variations/intermediate_files/raw_reads/*.cov.vcf > \\\n",
    "#/home/groups/dpwall/briannac/SARS-CoV-2_structural_variations/results/raw_reads/all.cov.vcf"
   ]
  },
  {
   "cell_type": "code",
   "execution_count": 26,
   "metadata": {},
   "outputs": [
    {
     "name": "stderr",
     "output_type": "stream",
     "text": [
      "IOPub data rate exceeded.\n",
      "The notebook server will temporarily stop sending output\n",
      "to the client in order to avoid crashing it.\n",
      "To change this limit, set the config variable\n",
      "`--NotebookApp.iopub_data_rate_limit`.\n",
      "\n",
      "Current values:\n",
      "NotebookApp.iopub_data_rate_limit=1000000.0 (bytes/sec)\n",
      "NotebookApp.rate_limit_window=3.0 (secs)\n",
      "\n"
     ]
    }
   ],
   "source": [
    "%%bash\n",
    "#less /home/groups/dpwall/briannac/SARS-CoV-2_structural_variations/results/raw_reads/all.cov.vcf"
   ]
  },
  {
   "cell_type": "code",
   "execution_count": 36,
   "metadata": {},
   "outputs": [],
   "source": [
    "fig_sras = ['SRR11577867','SRR11597222','SRR11621813','SRR11907574','SRR11857975']\n",
    "metadata[[r in fig_sras for r in metadata['Run']]].to_csv(PARENT_DIR + '/intermediate_files/raw_reads/ncbi_reads_for_figs.tsv', sep='\\t', index=False, header=None)"
   ]
  }
 ],
 "metadata": {
  "kernelspec": {
   "display_name": "Python 3",
   "language": "python",
   "name": "python3"
  },
  "language_info": {
   "codemirror_mode": {
    "name": "ipython",
    "version": 3
   },
   "file_extension": ".py",
   "mimetype": "text/x-python",
   "name": "python",
   "nbconvert_exporter": "python",
   "pygments_lexer": "ipython3",
   "version": "3.6.1"
  }
 },
 "nbformat": 4,
 "nbformat_minor": 2
}
